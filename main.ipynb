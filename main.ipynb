{
 "cells": [
  {
   "cell_type": "code",
   "execution_count": 1,
   "metadata": {},
   "outputs": [],
   "source": [
    "import os\n",
    "from bs4 import BeautifulSoup\n",
    "from selenium import webdriver\n",
    "from selenium.webdriver.common.by import By\n",
    "from seleniumwire import webdriver\n",
    "from selenium.webdriver.chrome.service import Service\n",
    "from webdriver_manager.chrome import ChromeDriverManager\n",
    "from selenium.webdriver.chrome.options import Options\n",
    "from selenium.webdriver.common.by import By"
   ]
  },
  {
   "cell_type": "code",
   "execution_count": 2,
   "metadata": {},
   "outputs": [],
   "source": [
    "proxy_address = \"\"  # Replace with your proxy details!\n",
    "proxy_port = \"\"\n",
    "proxy_username = \"\" # Replace if your proxy needs authentication\n",
    "proxy_password = \"\" # Replace if your proxy needs authentication"
   ]
  },
  {
   "cell_type": "code",
   "execution_count": 3,
   "metadata": {},
   "outputs": [],
   "source": [
    "# proxy_url = f\"http://{proxy_username}:{proxy_password}@{proxy_address}:{proxy_port}\"\n",
    "\n",
    "# # set selenium-wire options to use the proxy\n",
    "# seleniumwire_options = {\n",
    "#     \"proxy\": {\n",
    "#         \"http\": proxy_url,\n",
    "#         \"https\": proxy_url\n",
    "#     },\n",
    "# }\n",
    "\n",
    "# set Chrome options to run in headless mode\n",
    "# options = Options()\n",
    "# options.add_argument(\"--headless=new\")\n",
    "\n",
    "# initialize the Chrome driver with service, selenium-wire options, and chrome options\n",
    "driver = webdriver.Chrome(\n",
    "    service=Service(ChromeDriverManager().install()),\n",
    "    # seleniumwire_options=seleniumwire_options\n",
    "    # options=options\n",
    ")\n",
    "\n",
    "# navigate to the target webpage\n",
    "driver.get(\"https://www.tradeindia.com/manufacturers/a-alphabet/\")"
   ]
  },
  {
   "cell_type": "code",
   "execution_count": 4,
   "metadata": {},
   "outputs": [],
   "source": [
    "page_source = driver.page_source\n",
    "soup = BeautifulSoup(page_source, 'html.parser')\n",
    "url_list=[]\n",
    "profiles = soup.find_all('a', {'class': \"product-Link-cont active pageflex-A\"})\n",
    "for profile in profiles:\n",
    "    url_list.append(profile['href'])"
   ]
  },
  {
   "cell_type": "code",
   "execution_count": 5,
   "metadata": {},
   "outputs": [],
   "source": [
    "listings = []\n",
    "for url in url_list:\n",
    "    driver.get(url)\n",
    "    page_source = driver.page_source\n",
    "    soup = BeautifulSoup(page_source, 'html.parser')\n",
    "    company_listing = soup.find_all('a', {'class': \"company-url\"})\n",
    "    for list in company_listing:\n",
    "        listings.append(list['href'])"
   ]
  },
  {
   "cell_type": "code",
   "execution_count": 6,
   "metadata": {},
   "outputs": [
    {
     "name": "stdout",
     "output_type": "stream",
     "text": [
      "2643\n"
     ]
    }
   ],
   "source": [
    "print(len(listings))\n",
    "driver.quit()"
   ]
  },
  {
   "cell_type": "code",
   "execution_count": 7,
   "metadata": {},
   "outputs": [],
   "source": [
    "# proxy_url = f\"http://{proxy_username}:{proxy_password}@{proxy_address}:{proxy_port}\"\n",
    "\n",
    "# # set selenium-wire options to use the proxy\n",
    "# seleniumwire_options = {\n",
    "#     \"proxy\": {\n",
    "#         \"http\": proxy_url,\n",
    "#         \"https\": proxy_url\n",
    "#     },\n",
    "# }\n",
    "\n",
    "# set Chrome options to run in headless mode\n",
    "# options = Options()\n",
    "# options.add_argument(\"--headless=new\")\n",
    "\n",
    "# initialize the Chrome driver with service, selenium-wire options, and chrome options\n",
    "driver = webdriver.Chrome(\n",
    "    service=Service(ChromeDriverManager().install()),\n",
    "    # seleniumwire_options=seleniumwire_options\n",
    "    # options=options\n",
    ")\n"
   ]
  },
  {
   "cell_type": "code",
   "execution_count": 8,
   "metadata": {},
   "outputs": [],
   "source": [
    "manufacturer_list = []\n",
    "for i in range (len(listings)):\n",
    "    list = {}\n",
    "    try:\n",
    "        driver.get(listings[i])\n",
    "        page_source = driver.page_source\n",
    "        soup = BeautifulSoup(page_source,'html.parser')\n",
    "        driver.set_page_load_timeout(30)\n",
    "\n",
    "        try:\n",
    "            name = soup.find('h1',{'class':'sc-3b1eb120-11 RjdPL mb-1 Body2R'}).text.strip()\n",
    "        except:\n",
    "            url = listings[i]\n",
    "            manufacturer_list['url'] = url\n",
    "            manufacturer_list.append(\"This url can't be scrapped\")\n",
    "            continue\n",
    "\n",
    "        url = listings[i]\n",
    "\n",
    "        about = soup.find('div',{'class':'sc-3b1eb120-11 iUzTdD full-details Body2R pb-1'}).text.strip()\n",
    "\n",
    "        try:\n",
    "            number = soup.find('a',{'class':'sc-c9bc48ef-0 fAwUDn'})['href'].split(':')[1].strip()\n",
    "        except:\n",
    "            number = 'NA'\n",
    "\n",
    "        try:\n",
    "            gst_no = soup.find('span',{'class':'no-wrap'}).text.split(' ')[1]\n",
    "        except:\n",
    "            gst_no = 'NA'\n",
    "\n",
    "        try:\n",
    "            rating = soup.find('span',{'class':'mr-1'}).text.strip()\n",
    "        except:\n",
    "            rating = 'NA'\n",
    "\n",
    "        head= soup.find('p',{'class':'sc-3b1eb120-13 jSQhul m-0 mb-3 Body4R'}).text.strip()\n",
    "\n",
    "        common = soup.find_all('p',{'class':'sc-3b1eb120-13 jSQhul'})\n",
    "        if len(common)>2:\n",
    "            member_since = common[1]\n",
    "            member_since = member_since.text.strip()\n",
    "            address = common[2]\n",
    "            address = address.text.strip()\n",
    "        else:\n",
    "            member_since = 'NA'\n",
    "            try:\n",
    "                address = common[1]\n",
    "                address = address.text.strip()\n",
    "            except:\n",
    "                address = 'NA'\n",
    "            \n",
    "        title = soup.find_all('h3', {'class':'sc-3b1eb120-8 gWoKIS mt-2 mb-1 BodyTitle2S'})\n",
    "        content = soup.find_all('p', {'class':'sc-3b1eb120-13 jSQhul Body3R'})\n",
    "        info = {}\n",
    "        for items in range(len(title)):\n",
    "            info[title[items].text.strip()]=content[items].text.strip()\n",
    "\n",
    "        list['name'] = name\n",
    "        list['url'] = url\n",
    "        list['gst_no'] = gst_no\n",
    "        list['head'] = head\n",
    "        list['about'] = about\n",
    "        # list['number'] = number\n",
    "        list['rating'] = rating\n",
    "        list['member_since'] = member_since\n",
    "        list['address'] = address\n",
    "        list['info'] = info\n",
    "        manufacturer_list.append(list)\n",
    "\n",
    "    except:\n",
    "        continue"
   ]
  },
  {
   "cell_type": "code",
   "execution_count": null,
   "metadata": {},
   "outputs": [],
   "source": [
    "driver.quit()"
   ]
  },
  {
   "cell_type": "code",
   "execution_count": 9,
   "metadata": {},
   "outputs": [
    {
     "data": {
      "text/plain": [
       "2566"
      ]
     },
     "execution_count": 9,
     "metadata": {},
     "output_type": "execute_result"
    }
   ],
   "source": [
    "len(manufacturer_list)"
   ]
  },
  {
   "cell_type": "code",
   "execution_count": 10,
   "metadata": {},
   "outputs": [],
   "source": [
    "import json\n",
    "\n",
    "with open(f'manufacturer_list.json', 'w') as f:\n",
    "    json.dump(manufacturer_list, f, indent=4)"
   ]
  },
  {
   "cell_type": "code",
   "execution_count": 21,
   "metadata": {},
   "outputs": [
    {
     "ename": "ParserError",
     "evalue": "Error tokenizing data. C error: Expected 30 fields in line 3, saw 32\n",
     "output_type": "error",
     "traceback": [
      "\u001b[1;31m---------------------------------------------------------------------------\u001b[0m",
      "\u001b[1;31mParserError\u001b[0m                               Traceback (most recent call last)",
      "Cell \u001b[1;32mIn[21], line 2\u001b[0m\n\u001b[0;32m      1\u001b[0m \u001b[38;5;28;01mimport\u001b[39;00m\u001b[38;5;250m \u001b[39m\u001b[38;5;21;01mpandas\u001b[39;00m\u001b[38;5;250m \u001b[39m\u001b[38;5;28;01mas\u001b[39;00m\u001b[38;5;250m \u001b[39m\u001b[38;5;21;01mpd\u001b[39;00m\n\u001b[1;32m----> 2\u001b[0m data \u001b[38;5;241m=\u001b[39m \u001b[43mpd\u001b[49m\u001b[38;5;241;43m.\u001b[39;49m\u001b[43mread_csv\u001b[49m\u001b[43m(\u001b[49m\u001b[38;5;124;43m'\u001b[39;49m\u001b[38;5;124;43mD:/trade_India_scraper/manufacturer_list.csv\u001b[39;49m\u001b[38;5;124;43m'\u001b[39;49m\u001b[43m)\u001b[49m\n\u001b[0;32m      3\u001b[0m data\u001b[38;5;241m.\u001b[39mhead()\n",
      "File \u001b[1;32md:\\trade_India_scraper\\venv\\Lib\\site-packages\\pandas\\io\\parsers\\readers.py:1026\u001b[0m, in \u001b[0;36mread_csv\u001b[1;34m(filepath_or_buffer, sep, delimiter, header, names, index_col, usecols, dtype, engine, converters, true_values, false_values, skipinitialspace, skiprows, skipfooter, nrows, na_values, keep_default_na, na_filter, verbose, skip_blank_lines, parse_dates, infer_datetime_format, keep_date_col, date_parser, date_format, dayfirst, cache_dates, iterator, chunksize, compression, thousands, decimal, lineterminator, quotechar, quoting, doublequote, escapechar, comment, encoding, encoding_errors, dialect, on_bad_lines, delim_whitespace, low_memory, memory_map, float_precision, storage_options, dtype_backend)\u001b[0m\n\u001b[0;32m   1013\u001b[0m kwds_defaults \u001b[38;5;241m=\u001b[39m _refine_defaults_read(\n\u001b[0;32m   1014\u001b[0m     dialect,\n\u001b[0;32m   1015\u001b[0m     delimiter,\n\u001b[1;32m   (...)\u001b[0m\n\u001b[0;32m   1022\u001b[0m     dtype_backend\u001b[38;5;241m=\u001b[39mdtype_backend,\n\u001b[0;32m   1023\u001b[0m )\n\u001b[0;32m   1024\u001b[0m kwds\u001b[38;5;241m.\u001b[39mupdate(kwds_defaults)\n\u001b[1;32m-> 1026\u001b[0m \u001b[38;5;28;01mreturn\u001b[39;00m \u001b[43m_read\u001b[49m\u001b[43m(\u001b[49m\u001b[43mfilepath_or_buffer\u001b[49m\u001b[43m,\u001b[49m\u001b[43m \u001b[49m\u001b[43mkwds\u001b[49m\u001b[43m)\u001b[49m\n",
      "File \u001b[1;32md:\\trade_India_scraper\\venv\\Lib\\site-packages\\pandas\\io\\parsers\\readers.py:626\u001b[0m, in \u001b[0;36m_read\u001b[1;34m(filepath_or_buffer, kwds)\u001b[0m\n\u001b[0;32m    623\u001b[0m     \u001b[38;5;28;01mreturn\u001b[39;00m parser\n\u001b[0;32m    625\u001b[0m \u001b[38;5;28;01mwith\u001b[39;00m parser:\n\u001b[1;32m--> 626\u001b[0m     \u001b[38;5;28;01mreturn\u001b[39;00m \u001b[43mparser\u001b[49m\u001b[38;5;241;43m.\u001b[39;49m\u001b[43mread\u001b[49m\u001b[43m(\u001b[49m\u001b[43mnrows\u001b[49m\u001b[43m)\u001b[49m\n",
      "File \u001b[1;32md:\\trade_India_scraper\\venv\\Lib\\site-packages\\pandas\\io\\parsers\\readers.py:1923\u001b[0m, in \u001b[0;36mTextFileReader.read\u001b[1;34m(self, nrows)\u001b[0m\n\u001b[0;32m   1916\u001b[0m nrows \u001b[38;5;241m=\u001b[39m validate_integer(\u001b[38;5;124m\"\u001b[39m\u001b[38;5;124mnrows\u001b[39m\u001b[38;5;124m\"\u001b[39m, nrows)\n\u001b[0;32m   1917\u001b[0m \u001b[38;5;28;01mtry\u001b[39;00m:\n\u001b[0;32m   1918\u001b[0m     \u001b[38;5;66;03m# error: \"ParserBase\" has no attribute \"read\"\u001b[39;00m\n\u001b[0;32m   1919\u001b[0m     (\n\u001b[0;32m   1920\u001b[0m         index,\n\u001b[0;32m   1921\u001b[0m         columns,\n\u001b[0;32m   1922\u001b[0m         col_dict,\n\u001b[1;32m-> 1923\u001b[0m     ) \u001b[38;5;241m=\u001b[39m \u001b[38;5;28;43mself\u001b[39;49m\u001b[38;5;241;43m.\u001b[39;49m\u001b[43m_engine\u001b[49m\u001b[38;5;241;43m.\u001b[39;49m\u001b[43mread\u001b[49m\u001b[43m(\u001b[49m\u001b[43m  \u001b[49m\u001b[38;5;66;43;03m# type: ignore[attr-defined]\u001b[39;49;00m\n\u001b[0;32m   1924\u001b[0m \u001b[43m        \u001b[49m\u001b[43mnrows\u001b[49m\n\u001b[0;32m   1925\u001b[0m \u001b[43m    \u001b[49m\u001b[43m)\u001b[49m\n\u001b[0;32m   1926\u001b[0m \u001b[38;5;28;01mexcept\u001b[39;00m \u001b[38;5;167;01mException\u001b[39;00m:\n\u001b[0;32m   1927\u001b[0m     \u001b[38;5;28mself\u001b[39m\u001b[38;5;241m.\u001b[39mclose()\n",
      "File \u001b[1;32md:\\trade_India_scraper\\venv\\Lib\\site-packages\\pandas\\io\\parsers\\c_parser_wrapper.py:234\u001b[0m, in \u001b[0;36mCParserWrapper.read\u001b[1;34m(self, nrows)\u001b[0m\n\u001b[0;32m    232\u001b[0m \u001b[38;5;28;01mtry\u001b[39;00m:\n\u001b[0;32m    233\u001b[0m     \u001b[38;5;28;01mif\u001b[39;00m \u001b[38;5;28mself\u001b[39m\u001b[38;5;241m.\u001b[39mlow_memory:\n\u001b[1;32m--> 234\u001b[0m         chunks \u001b[38;5;241m=\u001b[39m \u001b[38;5;28;43mself\u001b[39;49m\u001b[38;5;241;43m.\u001b[39;49m\u001b[43m_reader\u001b[49m\u001b[38;5;241;43m.\u001b[39;49m\u001b[43mread_low_memory\u001b[49m\u001b[43m(\u001b[49m\u001b[43mnrows\u001b[49m\u001b[43m)\u001b[49m\n\u001b[0;32m    235\u001b[0m         \u001b[38;5;66;03m# destructive to chunks\u001b[39;00m\n\u001b[0;32m    236\u001b[0m         data \u001b[38;5;241m=\u001b[39m _concatenate_chunks(chunks)\n",
      "File \u001b[1;32mparsers.pyx:838\u001b[0m, in \u001b[0;36mpandas._libs.parsers.TextReader.read_low_memory\u001b[1;34m()\u001b[0m\n",
      "File \u001b[1;32mparsers.pyx:905\u001b[0m, in \u001b[0;36mpandas._libs.parsers.TextReader._read_rows\u001b[1;34m()\u001b[0m\n",
      "File \u001b[1;32mparsers.pyx:874\u001b[0m, in \u001b[0;36mpandas._libs.parsers.TextReader._tokenize_rows\u001b[1;34m()\u001b[0m\n",
      "File \u001b[1;32mparsers.pyx:891\u001b[0m, in \u001b[0;36mpandas._libs.parsers.TextReader._check_tokenize_status\u001b[1;34m()\u001b[0m\n",
      "File \u001b[1;32mparsers.pyx:2061\u001b[0m, in \u001b[0;36mpandas._libs.parsers.raise_parser_error\u001b[1;34m()\u001b[0m\n",
      "\u001b[1;31mParserError\u001b[0m: Error tokenizing data. C error: Expected 30 fields in line 3, saw 32\n"
     ]
    }
   ],
   "source": [
    "import pandas as pd\n",
    "data = pd.read_csv('D:/trade_India_scraper/manufacturer_list.csv')\n",
    "data.head()"
   ]
  }
 ],
 "metadata": {
  "kernelspec": {
   "display_name": "Python 3",
   "language": "python",
   "name": "python3"
  },
  "language_info": {
   "codemirror_mode": {
    "name": "ipython",
    "version": 3
   },
   "file_extension": ".py",
   "mimetype": "text/x-python",
   "name": "python",
   "nbconvert_exporter": "python",
   "pygments_lexer": "ipython3",
   "version": "3.12.0"
  }
 },
 "nbformat": 4,
 "nbformat_minor": 2
}
