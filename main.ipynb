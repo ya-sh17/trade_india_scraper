{
 "cells": [
  {
   "cell_type": "code",
   "execution_count": 1,
   "metadata": {},
   "outputs": [],
   "source": [
    "import os\n",
    "from bs4 import BeautifulSoup\n",
    "from selenium import webdriver\n",
    "from selenium.webdriver.common.by import By\n",
    "from seleniumwire import webdriver\n",
    "from selenium.webdriver.chrome.service import Service\n",
    "from webdriver_manager.chrome import ChromeDriverManager\n",
    "from selenium.webdriver.chrome.options import Options\n",
    "from selenium.webdriver.common.by import By"
   ]
  },
  {
   "cell_type": "code",
   "execution_count": 2,
   "metadata": {},
   "outputs": [],
   "source": [
    "proxy_address = \"\"  # Replace with your proxy details!\n",
    "proxy_port = \"\"\n",
    "proxy_username = \"\" # Replace if your proxy needs authentication\n",
    "proxy_password = \"\" # Replace if your proxy needs authentication"
   ]
  },
  {
   "cell_type": "code",
   "execution_count": 3,
   "metadata": {},
   "outputs": [],
   "source": [
    "# proxy_url = f\"http://{proxy_username}:{proxy_password}@{proxy_address}:{proxy_port}\"\n",
    "\n",
    "# # set selenium-wire options to use the proxy\n",
    "# seleniumwire_options = {\n",
    "#     \"proxy\": {\n",
    "#         \"http\": proxy_url,\n",
    "#         \"https\": proxy_url\n",
    "#     },\n",
    "# }\n",
    "\n",
    "# set Chrome options to run in headless mode\n",
    "# options = Options()\n",
    "# options.add_argument(\"--headless=new\")\n",
    "\n",
    "# initialize the Chrome driver with service, selenium-wire options, and chrome options\n",
    "driver = webdriver.Chrome(\n",
    "    service=Service(ChromeDriverManager().install()),\n",
    "    # seleniumwire_options=seleniumwire_options\n",
    "    # options=options\n",
    ")\n",
    "\n",
    "# navigate to the target webpage\n",
    "driver.get(\"https://www.tradeindia.com/manufacturers/a-alphabet/\")"
   ]
  },
  {
   "cell_type": "code",
   "execution_count": 4,
   "metadata": {},
   "outputs": [],
   "source": [
    "page_source = driver.page_source\n",
    "soup = BeautifulSoup(page_source, 'html.parser')\n",
    "url_list=[]\n",
    "profiles = soup.find_all('a', {'class': \"product-Link-cont active pageflex-A\"})\n",
    "for profile in profiles:\n",
    "    url_list.append(profile['href'])"
   ]
  },
  {
   "cell_type": "code",
   "execution_count": 5,
   "metadata": {},
   "outputs": [],
   "source": [
    "listings = []\n",
    "for url in url_list:\n",
    "    driver.get(url)\n",
    "    page_source = driver.page_source\n",
    "    soup = BeautifulSoup(page_source, 'html.parser')\n",
    "    company_listing = soup.find_all('a', {'class': \"company-url\"})\n",
    "    for list in company_listing:\n",
    "        listings.append(list['href'])"
   ]
  },
  {
   "cell_type": "code",
   "execution_count": 6,
   "metadata": {},
   "outputs": [
    {
     "name": "stdout",
     "output_type": "stream",
     "text": [
      "2643\n"
     ]
    }
   ],
   "source": [
    "print(len(listings))\n",
    "driver.quit()"
   ]
  },
  {
   "cell_type": "code",
   "execution_count": 7,
   "metadata": {},
   "outputs": [],
   "source": [
    "# proxy_url = f\"http://{proxy_username}:{proxy_password}@{proxy_address}:{proxy_port}\"\n",
    "\n",
    "# # set selenium-wire options to use the proxy\n",
    "# seleniumwire_options = {\n",
    "#     \"proxy\": {\n",
    "#         \"http\": proxy_url,\n",
    "#         \"https\": proxy_url\n",
    "#     },\n",
    "# }\n",
    "\n",
    "# set Chrome options to run in headless mode\n",
    "# options = Options()\n",
    "# options.add_argument(\"--headless=new\")\n",
    "\n",
    "# initialize the Chrome driver with service, selenium-wire options, and chrome options\n",
    "driver = webdriver.Chrome(\n",
    "    service=Service(ChromeDriverManager().install()),\n",
    "    # seleniumwire_options=seleniumwire_options\n",
    "    # options=options\n",
    ")\n"
   ]
  },
  {
   "cell_type": "code",
   "execution_count": 8,
   "metadata": {},
   "outputs": [],
   "source": [
    "manufacturer_list = []\n",
    "for i in range (len(listings)):\n",
    "    list = {}\n",
    "    try:\n",
    "        driver.get(listings[i])\n",
    "        page_source = driver.page_source\n",
    "        soup = BeautifulSoup(page_source,'html.parser')\n",
    "        driver.set_page_load_timeout(30)\n",
    "\n",
    "        try:\n",
    "            name = soup.find('h1',{'class':'sc-3b1eb120-11 RjdPL mb-1 Body2R'}).text.strip()\n",
    "        except:\n",
    "            url = listings[i]\n",
    "            manufacturer_list['url'] = url\n",
    "            manufacturer_list.append(\"This url can't be scrapped\")\n",
    "            continue\n",
    "\n",
    "        url = listings[i]\n",
    "\n",
    "        about = soup.find('div',{'class':'sc-3b1eb120-11 iUzTdD full-details Body2R pb-1'}).text.strip()\n",
    "\n",
    "        try:\n",
    "            number = soup.find('a',{'class':'sc-c9bc48ef-0 fAwUDn'})['href'].split(':')[1].strip()\n",
    "        except:\n",
    "            number = 'NA'\n",
    "\n",
    "        try:\n",
    "            gst_no = soup.find('span',{'class':'no-wrap'}).text.split(' ')[1]\n",
    "        except:\n",
    "            gst_no = 'NA'\n",
    "\n",
    "        try:\n",
    "            rating = soup.find('span',{'class':'mr-1'}).text.strip()\n",
    "        except:\n",
    "            rating = 'NA'\n",
    "\n",
    "        head= soup.find('p',{'class':'sc-3b1eb120-13 jSQhul m-0 mb-3 Body4R'}).text.strip()\n",
    "\n",
    "        common = soup.find_all('p',{'class':'sc-3b1eb120-13 jSQhul'})\n",
    "        if len(common)>2:\n",
    "            member_since = common[1]\n",
    "            member_since = member_since.text.strip()\n",
    "            address = common[2]\n",
    "            address = address.text.strip()\n",
    "        else:\n",
    "            member_since = 'NA'\n",
    "            try:\n",
    "                address = common[1]\n",
    "                address = address.text.strip()\n",
    "            except:\n",
    "                address = 'NA'\n",
    "            \n",
    "        title = soup.find_all('h3', {'class':'sc-3b1eb120-8 gWoKIS mt-2 mb-1 BodyTitle2S'})\n",
    "        content = soup.find_all('p', {'class':'sc-3b1eb120-13 jSQhul Body3R'})\n",
    "        info = {}\n",
    "        for items in range(len(title)):\n",
    "            info[title[items].text.strip()]=content[items].text.strip()\n",
    "\n",
    "        list['name'] = name\n",
    "        list['url'] = url\n",
    "        list['gst_no'] = gst_no\n",
    "        list['head'] = head\n",
    "        list['about'] = about\n",
    "        # list['number'] = number\n",
    "        list['rating'] = rating\n",
    "        list['member_since'] = member_since\n",
    "        list['address'] = address\n",
    "        list['info'] = info\n",
    "        manufacturer_list.append(list)\n",
    "\n",
    "    except:\n",
    "        continue"
   ]
  },
  {
   "cell_type": "code",
   "execution_count": null,
   "metadata": {},
   "outputs": [],
   "source": [
    "driver.quit()"
   ]
  },
  {
   "cell_type": "code",
   "execution_count": 9,
   "metadata": {},
   "outputs": [
    {
     "data": {
      "text/plain": [
       "2566"
      ]
     },
     "execution_count": 9,
     "metadata": {},
     "output_type": "execute_result"
    }
   ],
   "source": [
    "len(manufacturer_list)"
   ]
  },
  {
   "cell_type": "code",
   "execution_count": 10,
   "metadata": {},
   "outputs": [],
   "source": [
    "import json\n",
    "\n",
    "with open(f'manufacturer_list.json', 'w') as f:\n",
    "    json.dump(manufacturer_list, f, indent=4)"
   ]
  }
]
}  
